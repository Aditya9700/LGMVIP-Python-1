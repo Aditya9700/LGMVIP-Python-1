{
 "cells": [
  {
   "cell_type": "markdown",
   "metadata": {},
   "source": [
    "# GIF Creator Python"
   ]
  },
  {
   "cell_type": "markdown",
   "metadata": {},
   "source": [
    "## - by Aditya Rana"
   ]
  },
  {
   "cell_type": "markdown",
   "metadata": {},
   "source": [
    "## S͟o͟u͟r͟c͟e͟ C͟o͟d͟e͟ o͟f͟ t͟h͟e͟ P͟r͟o͟g͟r͟a͟m͟"
   ]
  },
  {
   "cell_type": "markdown",
   "metadata": {},
   "source": [
    "#### Installing the moviepy module "
   ]
  },
  {
   "cell_type": "code",
   "execution_count": null,
   "metadata": {},
   "outputs": [],
   "source": [
    "%pip install moviepy"
   ]
  },
  {
   "cell_type": "markdown",
   "metadata": {},
   "source": [
    "#### Main Source code"
   ]
  },
  {
   "cell_type": "code",
   "execution_count": 8,
   "metadata": {},
   "outputs": [
    {
     "name": "stdin",
     "output_type": "stream",
     "text": [
      "How many Frames Per Second (FPS) you want in your GIF:  4\n",
      "Enter the name of Output GIF File (use .gif): FINAL.gif\n"
     ]
    },
    {
     "name": "stdout",
     "output_type": "stream",
     "text": [
      "MoviePy - Building file FINAL.gif with imageio.\n"
     ]
    },
    {
     "name": "stderr",
     "output_type": "stream",
     "text": [
      "                                                  \r"
     ]
    },
    {
     "name": "stdout",
     "output_type": "stream",
     "text": [
      "GIF was Created Successfully!! with the directory name FINAL.gif \n"
     ]
    }
   ],
   "source": [
    "#Importing the moviepy module in Python \n",
    "from moviepy.editor import *\n",
    "\n",
    "#Creating the list of images required to make GIF\n",
    "input_images_files=[\"img1.jpg\",\"img2.jpg\",\"img3.jpg\",\"img4.jpg\",\"img5.jpg\",]\n",
    "\n",
    "\n",
    "#Creating a User Defined Function to increase the reusability of the Program\n",
    "\n",
    "def creategif():\n",
    "    # duration of the final GIF \n",
    "    fps=int(input(\"How many Frames Per Second (FPS) you want in your GIF: \"))\n",
    "\n",
    "    # Using the ImageSequenceClip Function to create GIF\n",
    "    clips=ImageSequenceClip(input_images_files,fps)\n",
    "    \n",
    "    # Taking the output filename from user\n",
    "    outputfile=input(\"Enter the name of Output GIF File (use .gif):\")\n",
    "    clips.write_gif(outputfile,fps)\n",
    "\n",
    "    #Successful completion Message  \n",
    "    print(f\"GIF was Created Successfully!! with the directory name {outputfile} \")\n",
    "\n",
    "creategif()"
   ]
  }
 ],
 "metadata": {
  "kernelspec": {
   "display_name": "test_venv",
   "language": "python",
   "name": "test_venv"
  },
  "language_info": {
   "codemirror_mode": {
    "name": "ipython",
    "version": 3
   },
   "file_extension": ".py",
   "mimetype": "text/x-python",
   "name": "python",
   "nbconvert_exporter": "python",
   "pygments_lexer": "ipython3",
   "version": "3.9.5"
  }
 },
 "nbformat": 4,
 "nbformat_minor": 4
}
